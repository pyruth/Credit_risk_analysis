{
 "cells": [
  {
   "cell_type": "code",
   "execution_count": 76,
   "metadata": {},
   "outputs": [],
   "source": [
    "import pandas as pd\n",
    "import matplotlib.pyplot as plt"
   ]
  },
  {
   "cell_type": "code",
   "execution_count": 77,
   "metadata": {},
   "outputs": [
    {
     "ename": "SyntaxError",
     "evalue": "invalid syntax (Temp/ipykernel_3560/3628480760.py, line 1)",
     "output_type": "error",
     "traceback": [
      "\u001b[1;36m  File \u001b[1;32m\"C:\\Users\\prasa\\AppData\\Local\\Temp/ipykernel_3560/3628480760.py\"\u001b[1;36m, line \u001b[1;32m1\u001b[0m\n\u001b[1;33m    <h1> Reading Data </h1>\u001b[0m\n\u001b[1;37m    ^\u001b[0m\n\u001b[1;31mSyntaxError\u001b[0m\u001b[1;31m:\u001b[0m invalid syntax\n"
     ]
    }
   ],
   "source": [
    "<h1> Reading Data </h1>"
   ]
  },
  {
   "cell_type": "code",
   "execution_count": 78,
   "metadata": {},
   "outputs": [
    {
     "name": "stderr",
     "output_type": "stream",
     "text": [
      "c:\\Users\\prasa\\anaconda3\\lib\\site-packages\\IPython\\core\\interactiveshell.py:3444: DtypeWarning: Columns (19,55) have mixed types.Specify dtype option on import or set low_memory=False.\n",
      "  exec(code_obj, self.user_global_ns, self.user_ns)\n"
     ]
    }
   ],
   "source": [
    "df=pd.read_csv(r\"C:\\Users\\prasa\\Downloads\\Corrections\\loan.csv\")"
   ]
  },
  {
   "cell_type": "code",
   "execution_count": 126,
   "metadata": {},
   "outputs": [],
   "source": [
    "#df.info()"
   ]
  },
  {
   "cell_type": "code",
   "execution_count": null,
   "metadata": {},
   "outputs": [],
   "source": [
    "df.head()"
   ]
  },
  {
   "cell_type": "code",
   "execution_count": 81,
   "metadata": {},
   "outputs": [
    {
     "data": {
      "text/plain": [
       "'\\n Loan stats\\n annual_inc : The self-reported annual income provided by the borrower during registration. 887375 non-null  float64\\n emp_length : Employment length in years. Possible values are between 0 and 10 where 0 means less than one year an..842554 non-null  object\\n installment: The monthly payment owed by the borrower if the loan originates. 887379 non-null  float64\\n int_rate : Interest Rate on the loan  887379 non-null  float64\\n loan_amnt : The listed amount of the loan applied for by the borrower. If at some point in time, the credit department reduces the loan amount, then it will be reflected in this value. 887379 non-null  float64\\n home_ownership: home_ownership\\tThe home ownership status provided by the borrower during registration. Our values are: RENT, OWN, MORTGAGE, OTHER. 887379 non-null  object \\n term: The number of payments on the loan. Values are in months and can be either 36 or 60.\\n grade\\t: LC assigned loan grade 887379 non-null  object\\n annual_inc\\tThe self-reported annual income provided by the borrower during registration.  887375 non-null  float64\\n dti : A ratio calculated using the borrower’s total monthly debt payments on the total debt obligations, excluding mortgage and the requested LC loan, divided by the borrower’s self-reported monthly income. 887379 non-null  float64\\n \\n\\n \\n'"
      ]
     },
     "execution_count": 81,
     "metadata": {},
     "output_type": "execute_result"
    }
   ],
   "source": [
    "\"\"\"\n",
    " Loan stats\n",
    " annual_inc : The self-reported annual income provided by the borrower during registration. 887375 non-null  float64\n",
    " emp_length : Employment length in years. Possible values are between 0 and 10 where 0 means less than one year an..842554 non-null  object\n",
    " installment: The monthly payment owed by the borrower if the loan originates. 887379 non-null  float64\n",
    " int_rate : Interest Rate on the loan  887379 non-null  float64\n",
    " loan_amnt : The listed amount of the loan applied for by the borrower. If at some point in time, the credit department reduces the loan amount, then it will be reflected in this value. 887379 non-null  float64\n",
    " home_ownership: home_ownership\tThe home ownership status provided by the borrower during registration. Our values are: RENT, OWN, MORTGAGE, OTHER. 887379 non-null  object \n",
    " term: The number of payments on the loan. Values are in months and can be either 36 or 60.\n",
    " grade\t: LC assigned loan grade 887379 non-null  object\n",
    " annual_inc\tThe self-reported annual income provided by the borrower during registration.  887375 non-null  float64\n",
    " dti : A ratio calculated using the borrower’s total monthly debt payments on the total debt obligations, excluding mortgage and the requested LC loan, divided by the borrower’s self-reported monthly income. 887379 non-null  float64\n",
    " \n",
    "\n",
    " \n",
    "\"\"\""
   ]
  },
  {
   "cell_type": "code",
   "execution_count": 82,
   "metadata": {},
   "outputs": [
    {
     "ename": "SyntaxError",
     "evalue": "invalid syntax (Temp/ipykernel_3560/1894068515.py, line 1)",
     "output_type": "error",
     "traceback": [
      "\u001b[1;36m  File \u001b[1;32m\"C:\\Users\\prasa\\AppData\\Local\\Temp/ipykernel_3560/1894068515.py\"\u001b[1;36m, line \u001b[1;32m1\u001b[0m\n\u001b[1;33m    <h1> Initial filtering of Data </h1>\u001b[0m\n\u001b[1;37m    ^\u001b[0m\n\u001b[1;31mSyntaxError\u001b[0m\u001b[1;31m:\u001b[0m invalid syntax\n"
     ]
    }
   ],
   "source": [
    "<h1> Initial filtering of Data </h1>\n"
   ]
  },
  {
   "cell_type": "code",
   "execution_count": 98,
   "metadata": {},
   "outputs": [],
   "source": [
    "df2=df[['annual_inc','emp_length','installment','int_rate','loan_amnt','home_ownership','term','dti','verification_status','grade','loan_status',]]"
   ]
  },
  {
   "cell_type": "code",
   "execution_count": null,
   "metadata": {},
   "outputs": [],
   "source": [
    "df2.head()"
   ]
  },
  {
   "cell_type": "code",
   "execution_count": null,
   "metadata": {},
   "outputs": [],
   "source": [
    "df2['emp_length'].unique()"
   ]
  },
  {
   "cell_type": "code",
   "execution_count": 120,
   "metadata": {},
   "outputs": [
    {
     "name": "stderr",
     "output_type": "stream",
     "text": [
      "C:\\Users\\prasa\\AppData\\Local\\Temp/ipykernel_3560/3769778995.py:29: SettingWithCopyWarning: \n",
      "A value is trying to be set on a copy of a slice from a DataFrame.\n",
      "Try using .loc[row_indexer,col_indexer] = value instead\n",
      "\n",
      "See the caveats in the documentation: https://pandas.pydata.org/pandas-docs/stable/user_guide/indexing.html#returning-a-view-versus-a-copy\n",
      "  df2['emp_length']=df2['emp_length'].apply(YeartoNum)\n"
     ]
    },
    {
     "data": {
      "text/html": [
       "<div>\n",
       "<style scoped>\n",
       "    .dataframe tbody tr th:only-of-type {\n",
       "        vertical-align: middle;\n",
       "    }\n",
       "\n",
       "    .dataframe tbody tr th {\n",
       "        vertical-align: top;\n",
       "    }\n",
       "\n",
       "    .dataframe thead th {\n",
       "        text-align: right;\n",
       "    }\n",
       "</style>\n",
       "<table border=\"1\" class=\"dataframe\">\n",
       "  <thead>\n",
       "    <tr style=\"text-align: right;\">\n",
       "      <th></th>\n",
       "      <th>annual_inc</th>\n",
       "      <th>emp_length</th>\n",
       "      <th>installment</th>\n",
       "      <th>int_rate</th>\n",
       "      <th>loan_amnt</th>\n",
       "      <th>home_ownership</th>\n",
       "      <th>term</th>\n",
       "      <th>dti</th>\n",
       "      <th>verification_status</th>\n",
       "      <th>grade</th>\n",
       "      <th>loan_status</th>\n",
       "    </tr>\n",
       "  </thead>\n",
       "  <tbody>\n",
       "    <tr>\n",
       "      <th>0</th>\n",
       "      <td>24000.0</td>\n",
       "      <td>0</td>\n",
       "      <td>162.87</td>\n",
       "      <td>10.65</td>\n",
       "      <td>5000.0</td>\n",
       "      <td>None</td>\n",
       "      <td>36 months</td>\n",
       "      <td>27.65</td>\n",
       "      <td>Verified</td>\n",
       "      <td>B</td>\n",
       "      <td>Fully Paid</td>\n",
       "    </tr>\n",
       "    <tr>\n",
       "      <th>1</th>\n",
       "      <td>30000.0</td>\n",
       "      <td>0</td>\n",
       "      <td>59.83</td>\n",
       "      <td>15.27</td>\n",
       "      <td>2500.0</td>\n",
       "      <td>None</td>\n",
       "      <td>60 months</td>\n",
       "      <td>1.00</td>\n",
       "      <td>Source Verified</td>\n",
       "      <td>C</td>\n",
       "      <td>Charged Off</td>\n",
       "    </tr>\n",
       "    <tr>\n",
       "      <th>2</th>\n",
       "      <td>12252.0</td>\n",
       "      <td>0</td>\n",
       "      <td>84.33</td>\n",
       "      <td>15.96</td>\n",
       "      <td>2400.0</td>\n",
       "      <td>None</td>\n",
       "      <td>36 months</td>\n",
       "      <td>8.72</td>\n",
       "      <td>Not Verified</td>\n",
       "      <td>C</td>\n",
       "      <td>Fully Paid</td>\n",
       "    </tr>\n",
       "    <tr>\n",
       "      <th>3</th>\n",
       "      <td>49200.0</td>\n",
       "      <td>0</td>\n",
       "      <td>339.31</td>\n",
       "      <td>13.49</td>\n",
       "      <td>10000.0</td>\n",
       "      <td>None</td>\n",
       "      <td>36 months</td>\n",
       "      <td>20.00</td>\n",
       "      <td>Source Verified</td>\n",
       "      <td>C</td>\n",
       "      <td>Fully Paid</td>\n",
       "    </tr>\n",
       "    <tr>\n",
       "      <th>4</th>\n",
       "      <td>80000.0</td>\n",
       "      <td>0</td>\n",
       "      <td>67.79</td>\n",
       "      <td>12.69</td>\n",
       "      <td>3000.0</td>\n",
       "      <td>None</td>\n",
       "      <td>60 months</td>\n",
       "      <td>17.94</td>\n",
       "      <td>Source Verified</td>\n",
       "      <td>B</td>\n",
       "      <td>Current</td>\n",
       "    </tr>\n",
       "    <tr>\n",
       "      <th>5</th>\n",
       "      <td>36000.0</td>\n",
       "      <td>0</td>\n",
       "      <td>156.46</td>\n",
       "      <td>7.90</td>\n",
       "      <td>5000.0</td>\n",
       "      <td>None</td>\n",
       "      <td>36 months</td>\n",
       "      <td>11.20</td>\n",
       "      <td>Source Verified</td>\n",
       "      <td>A</td>\n",
       "      <td>Fully Paid</td>\n",
       "    </tr>\n",
       "    <tr>\n",
       "      <th>6</th>\n",
       "      <td>47004.0</td>\n",
       "      <td>0</td>\n",
       "      <td>170.08</td>\n",
       "      <td>15.96</td>\n",
       "      <td>7000.0</td>\n",
       "      <td>None</td>\n",
       "      <td>60 months</td>\n",
       "      <td>23.51</td>\n",
       "      <td>Not Verified</td>\n",
       "      <td>C</td>\n",
       "      <td>Current</td>\n",
       "    </tr>\n",
       "    <tr>\n",
       "      <th>7</th>\n",
       "      <td>48000.0</td>\n",
       "      <td>0</td>\n",
       "      <td>109.43</td>\n",
       "      <td>18.64</td>\n",
       "      <td>3000.0</td>\n",
       "      <td>None</td>\n",
       "      <td>36 months</td>\n",
       "      <td>5.35</td>\n",
       "      <td>Source Verified</td>\n",
       "      <td>E</td>\n",
       "      <td>Fully Paid</td>\n",
       "    </tr>\n",
       "    <tr>\n",
       "      <th>8</th>\n",
       "      <td>40000.0</td>\n",
       "      <td>0</td>\n",
       "      <td>152.39</td>\n",
       "      <td>21.28</td>\n",
       "      <td>5600.0</td>\n",
       "      <td>None</td>\n",
       "      <td>60 months</td>\n",
       "      <td>5.55</td>\n",
       "      <td>Source Verified</td>\n",
       "      <td>F</td>\n",
       "      <td>Charged Off</td>\n",
       "    </tr>\n",
       "    <tr>\n",
       "      <th>9</th>\n",
       "      <td>15000.0</td>\n",
       "      <td>0</td>\n",
       "      <td>121.45</td>\n",
       "      <td>12.69</td>\n",
       "      <td>5375.0</td>\n",
       "      <td>None</td>\n",
       "      <td>60 months</td>\n",
       "      <td>18.08</td>\n",
       "      <td>Verified</td>\n",
       "      <td>B</td>\n",
       "      <td>Charged Off</td>\n",
       "    </tr>\n",
       "  </tbody>\n",
       "</table>\n",
       "</div>"
      ],
      "text/plain": [
       "   annual_inc  emp_length  installment  int_rate  loan_amnt home_ownership  \\\n",
       "0     24000.0           0       162.87     10.65     5000.0           None   \n",
       "1     30000.0           0        59.83     15.27     2500.0           None   \n",
       "2     12252.0           0        84.33     15.96     2400.0           None   \n",
       "3     49200.0           0       339.31     13.49    10000.0           None   \n",
       "4     80000.0           0        67.79     12.69     3000.0           None   \n",
       "5     36000.0           0       156.46      7.90     5000.0           None   \n",
       "6     47004.0           0       170.08     15.96     7000.0           None   \n",
       "7     48000.0           0       109.43     18.64     3000.0           None   \n",
       "8     40000.0           0       152.39     21.28     5600.0           None   \n",
       "9     15000.0           0       121.45     12.69     5375.0           None   \n",
       "\n",
       "         term    dti verification_status grade  loan_status  \n",
       "0   36 months  27.65            Verified     B   Fully Paid  \n",
       "1   60 months   1.00     Source Verified     C  Charged Off  \n",
       "2   36 months   8.72        Not Verified     C   Fully Paid  \n",
       "3   36 months  20.00     Source Verified     C   Fully Paid  \n",
       "4   60 months  17.94     Source Verified     B      Current  \n",
       "5   36 months  11.20     Source Verified     A   Fully Paid  \n",
       "6   60 months  23.51        Not Verified     C      Current  \n",
       "7   36 months   5.35     Source Verified     E   Fully Paid  \n",
       "8   60 months   5.55     Source Verified     F  Charged Off  \n",
       "9   60 months  18.08            Verified     B  Charged Off  "
      ]
     },
     "execution_count": 120,
     "metadata": {},
     "output_type": "execute_result"
    }
   ],
   "source": [
    "def YeartoNum(year):\n",
    "    if year == \"< 1 year\":\n",
    "        return 1\n",
    "    elif year == \"1 year\":\n",
    "        return 2\n",
    "    elif year == \"2 years\":\n",
    "        return 3\n",
    "    elif year == \"3 years\":\n",
    "        return 4\n",
    "    elif year == \"4 years\":\n",
    "        return 5\n",
    "    elif year == \"5 years\":\n",
    "        return 6\n",
    "    elif year == \"6 years\":\n",
    "        return 7\n",
    "    elif year == \"7 years\":\n",
    "        return 8\n",
    "    elif year == \"8 years\":\n",
    "        return 9\n",
    "    elif year == \"9 years\":\n",
    "        return 10\n",
    "    elif year == \"10 years\":\n",
    "        return 11\n",
    "    elif year == \"10+ years\":\n",
    "        return 12\n",
    "    else:\n",
    "        return 0\n",
    "\n",
    "df2['emp_length']=df2['emp_length'].apply(YeartoNum)\n",
    "df2.head(10)"
   ]
  },
  {
   "cell_type": "code",
   "execution_count": 87,
   "metadata": {},
   "outputs": [
    {
     "data": {
      "text/plain": [
       "array(['RENT', 'OWN', 'MORTGAGE', 'OTHER', 'NONE', 'ANY'], dtype=object)"
      ]
     },
     "execution_count": 87,
     "metadata": {},
     "output_type": "execute_result"
    }
   ],
   "source": [
    "df2['home_ownership'].unique()"
   ]
  },
  {
   "cell_type": "code",
   "execution_count": 122,
   "metadata": {},
   "outputs": [
    {
     "name": "stderr",
     "output_type": "stream",
     "text": [
      "C:\\Users\\prasa\\AppData\\Local\\Temp/ipykernel_3560/1112210517.py:15: SettingWithCopyWarning: \n",
      "A value is trying to be set on a copy of a slice from a DataFrame.\n",
      "Try using .loc[row_indexer,col_indexer] = value instead\n",
      "\n",
      "See the caveats in the documentation: https://pandas.pydata.org/pandas-docs/stable/user_guide/indexing.html#returning-a-view-versus-a-copy\n",
      "  df2['home_ownership']=df2['home_ownership'].apply(HometoNum).astype('float64')\n"
     ]
    },
    {
     "data": {
      "text/html": [
       "<div>\n",
       "<style scoped>\n",
       "    .dataframe tbody tr th:only-of-type {\n",
       "        vertical-align: middle;\n",
       "    }\n",
       "\n",
       "    .dataframe tbody tr th {\n",
       "        vertical-align: top;\n",
       "    }\n",
       "\n",
       "    .dataframe thead th {\n",
       "        text-align: right;\n",
       "    }\n",
       "</style>\n",
       "<table border=\"1\" class=\"dataframe\">\n",
       "  <thead>\n",
       "    <tr style=\"text-align: right;\">\n",
       "      <th></th>\n",
       "      <th>annual_inc</th>\n",
       "      <th>emp_length</th>\n",
       "      <th>installment</th>\n",
       "      <th>int_rate</th>\n",
       "      <th>loan_amnt</th>\n",
       "      <th>home_ownership</th>\n",
       "      <th>term</th>\n",
       "      <th>dti</th>\n",
       "      <th>verification_status</th>\n",
       "      <th>grade</th>\n",
       "      <th>loan_status</th>\n",
       "    </tr>\n",
       "  </thead>\n",
       "  <tbody>\n",
       "    <tr>\n",
       "      <th>0</th>\n",
       "      <td>24000.0</td>\n",
       "      <td>0</td>\n",
       "      <td>162.87</td>\n",
       "      <td>10.65</td>\n",
       "      <td>5000.0</td>\n",
       "      <td>NaN</td>\n",
       "      <td>36 months</td>\n",
       "      <td>27.65</td>\n",
       "      <td>Verified</td>\n",
       "      <td>B</td>\n",
       "      <td>Fully Paid</td>\n",
       "    </tr>\n",
       "    <tr>\n",
       "      <th>1</th>\n",
       "      <td>30000.0</td>\n",
       "      <td>0</td>\n",
       "      <td>59.83</td>\n",
       "      <td>15.27</td>\n",
       "      <td>2500.0</td>\n",
       "      <td>NaN</td>\n",
       "      <td>60 months</td>\n",
       "      <td>1.00</td>\n",
       "      <td>Source Verified</td>\n",
       "      <td>C</td>\n",
       "      <td>Charged Off</td>\n",
       "    </tr>\n",
       "    <tr>\n",
       "      <th>2</th>\n",
       "      <td>12252.0</td>\n",
       "      <td>0</td>\n",
       "      <td>84.33</td>\n",
       "      <td>15.96</td>\n",
       "      <td>2400.0</td>\n",
       "      <td>NaN</td>\n",
       "      <td>36 months</td>\n",
       "      <td>8.72</td>\n",
       "      <td>Not Verified</td>\n",
       "      <td>C</td>\n",
       "      <td>Fully Paid</td>\n",
       "    </tr>\n",
       "    <tr>\n",
       "      <th>3</th>\n",
       "      <td>49200.0</td>\n",
       "      <td>0</td>\n",
       "      <td>339.31</td>\n",
       "      <td>13.49</td>\n",
       "      <td>10000.0</td>\n",
       "      <td>NaN</td>\n",
       "      <td>36 months</td>\n",
       "      <td>20.00</td>\n",
       "      <td>Source Verified</td>\n",
       "      <td>C</td>\n",
       "      <td>Fully Paid</td>\n",
       "    </tr>\n",
       "    <tr>\n",
       "      <th>4</th>\n",
       "      <td>80000.0</td>\n",
       "      <td>0</td>\n",
       "      <td>67.79</td>\n",
       "      <td>12.69</td>\n",
       "      <td>3000.0</td>\n",
       "      <td>NaN</td>\n",
       "      <td>60 months</td>\n",
       "      <td>17.94</td>\n",
       "      <td>Source Verified</td>\n",
       "      <td>B</td>\n",
       "      <td>Current</td>\n",
       "    </tr>\n",
       "    <tr>\n",
       "      <th>5</th>\n",
       "      <td>36000.0</td>\n",
       "      <td>0</td>\n",
       "      <td>156.46</td>\n",
       "      <td>7.90</td>\n",
       "      <td>5000.0</td>\n",
       "      <td>NaN</td>\n",
       "      <td>36 months</td>\n",
       "      <td>11.20</td>\n",
       "      <td>Source Verified</td>\n",
       "      <td>A</td>\n",
       "      <td>Fully Paid</td>\n",
       "    </tr>\n",
       "    <tr>\n",
       "      <th>6</th>\n",
       "      <td>47004.0</td>\n",
       "      <td>0</td>\n",
       "      <td>170.08</td>\n",
       "      <td>15.96</td>\n",
       "      <td>7000.0</td>\n",
       "      <td>NaN</td>\n",
       "      <td>60 months</td>\n",
       "      <td>23.51</td>\n",
       "      <td>Not Verified</td>\n",
       "      <td>C</td>\n",
       "      <td>Current</td>\n",
       "    </tr>\n",
       "    <tr>\n",
       "      <th>7</th>\n",
       "      <td>48000.0</td>\n",
       "      <td>0</td>\n",
       "      <td>109.43</td>\n",
       "      <td>18.64</td>\n",
       "      <td>3000.0</td>\n",
       "      <td>NaN</td>\n",
       "      <td>36 months</td>\n",
       "      <td>5.35</td>\n",
       "      <td>Source Verified</td>\n",
       "      <td>E</td>\n",
       "      <td>Fully Paid</td>\n",
       "    </tr>\n",
       "    <tr>\n",
       "      <th>8</th>\n",
       "      <td>40000.0</td>\n",
       "      <td>0</td>\n",
       "      <td>152.39</td>\n",
       "      <td>21.28</td>\n",
       "      <td>5600.0</td>\n",
       "      <td>NaN</td>\n",
       "      <td>60 months</td>\n",
       "      <td>5.55</td>\n",
       "      <td>Source Verified</td>\n",
       "      <td>F</td>\n",
       "      <td>Charged Off</td>\n",
       "    </tr>\n",
       "    <tr>\n",
       "      <th>9</th>\n",
       "      <td>15000.0</td>\n",
       "      <td>0</td>\n",
       "      <td>121.45</td>\n",
       "      <td>12.69</td>\n",
       "      <td>5375.0</td>\n",
       "      <td>NaN</td>\n",
       "      <td>60 months</td>\n",
       "      <td>18.08</td>\n",
       "      <td>Verified</td>\n",
       "      <td>B</td>\n",
       "      <td>Charged Off</td>\n",
       "    </tr>\n",
       "  </tbody>\n",
       "</table>\n",
       "</div>"
      ],
      "text/plain": [
       "   annual_inc  emp_length  installment  int_rate  loan_amnt  home_ownership  \\\n",
       "0     24000.0           0       162.87     10.65     5000.0             NaN   \n",
       "1     30000.0           0        59.83     15.27     2500.0             NaN   \n",
       "2     12252.0           0        84.33     15.96     2400.0             NaN   \n",
       "3     49200.0           0       339.31     13.49    10000.0             NaN   \n",
       "4     80000.0           0        67.79     12.69     3000.0             NaN   \n",
       "5     36000.0           0       156.46      7.90     5000.0             NaN   \n",
       "6     47004.0           0       170.08     15.96     7000.0             NaN   \n",
       "7     48000.0           0       109.43     18.64     3000.0             NaN   \n",
       "8     40000.0           0       152.39     21.28     5600.0             NaN   \n",
       "9     15000.0           0       121.45     12.69     5375.0             NaN   \n",
       "\n",
       "         term    dti verification_status grade  loan_status  \n",
       "0   36 months  27.65            Verified     B   Fully Paid  \n",
       "1   60 months   1.00     Source Verified     C  Charged Off  \n",
       "2   36 months   8.72        Not Verified     C   Fully Paid  \n",
       "3   36 months  20.00     Source Verified     C   Fully Paid  \n",
       "4   60 months  17.94     Source Verified     B      Current  \n",
       "5   36 months  11.20     Source Verified     A   Fully Paid  \n",
       "6   60 months  23.51        Not Verified     C      Current  \n",
       "7   36 months   5.35     Source Verified     E   Fully Paid  \n",
       "8   60 months   5.55     Source Verified     F  Charged Off  \n",
       "9   60 months  18.08            Verified     B  Charged Off  "
      ]
     },
     "execution_count": 122,
     "metadata": {},
     "output_type": "execute_result"
    }
   ],
   "source": [
    "def HometoNum(home):\n",
    "    if home == 'RENT':\n",
    "        return 0\n",
    "    if home == 'OWN':\n",
    "        return 1\n",
    "    if home == 'MORTGAGE':\n",
    "        return 2\n",
    "    if home == 'OTHER':\n",
    "        return 3\n",
    "    if home == 'NONE':\n",
    "        return 4\n",
    "    if home == 'ANY':\n",
    "        return 5\n",
    "\n",
    "df2['home_ownership']=df2['home_ownership'].apply(HometoNum).astype('float64')\n",
    "df2.head(10)"
   ]
  },
  {
   "cell_type": "code",
   "execution_count": 103,
   "metadata": {},
   "outputs": [
    {
     "data": {
      "text/plain": [
       "array(['Fully Paid', 'Charged Off', 'Current', 'Default',\n",
       "       'Late (31-120 days)', 'In Grace Period', 'Late (16-30 days)',\n",
       "       'Does not meet the credit policy. Status:Fully Paid',\n",
       "       'Does not meet the credit policy. Status:Charged Off', 'Issued'],\n",
       "      dtype=object)"
      ]
     },
     "execution_count": 103,
     "metadata": {},
     "output_type": "execute_result"
    }
   ],
   "source": [
    "df2['loan_status'].unique()"
   ]
  },
  {
   "cell_type": "code",
   "execution_count": 104,
   "metadata": {},
   "outputs": [],
   "source": [
    "def LoantoNum(loan):\n",
    "    if loan in [ 'Charged Off', 'Default','Late (16-30 days)',\n",
    "       'Late (31-120 days)', 'In Grace Period', 'Does not meet the credit policy. Status:Charged Off']:\n",
    "         return 0\n",
    "    elif loan in ['Does not meet the credit policy. Status:Fully Paid','Fully Paid',\n",
    "        'Issued', 'Current']:\n",
    "         return 1\n"
   ]
  },
  {
   "cell_type": "code",
   "execution_count": 90,
   "metadata": {},
   "outputs": [
    {
     "data": {
      "text/plain": [
       "array(['credit_card', 'car', 'small_business', 'other', 'wedding',\n",
       "       'debt_consolidation', 'home_improvement', 'major_purchase',\n",
       "       'medical', 'moving', 'vacation', 'house', 'renewable_energy',\n",
       "       'educational'], dtype=object)"
      ]
     },
     "execution_count": 90,
     "metadata": {},
     "output_type": "execute_result"
    }
   ],
   "source": [
    "df['purpose'].unique()"
   ]
  },
  {
   "cell_type": "code",
   "execution_count": 31,
   "metadata": {},
   "outputs": [
    {
     "data": {
      "text/plain": [
       "\"\\ndf['total_bal_il'].unique()\\ndf['max_bal_bc'].unique()\\ndf['tot_coll_amt'].unique()\\n\""
      ]
     },
     "execution_count": 31,
     "metadata": {},
     "output_type": "execute_result"
    }
   ],
   "source": [
    "\"\"\"\n",
    "df['total_bal_il'].unique()\n",
    "df['max_bal_bc'].unique()\n",
    "df['tot_coll_amt'].unique()\n",
    "\"\"\""
   ]
  },
  {
   "cell_type": "code",
   "execution_count": 105,
   "metadata": {},
   "outputs": [
    {
     "data": {
      "text/plain": [
       "array(['RENT', 'OWN', 'MORTGAGE', 'OTHER', 'NONE', 'ANY'], dtype=object)"
      ]
     },
     "execution_count": 105,
     "metadata": {},
     "output_type": "execute_result"
    }
   ],
   "source": [
    "df2['home_ownership'].unique()"
   ]
  },
  {
   "cell_type": "code",
   "execution_count": 106,
   "metadata": {},
   "outputs": [
    {
     "name": "stdout",
     "output_type": "stream",
     "text": [
      "5.32\n",
      "28.99\n",
      "23.669999999999998\n"
     ]
    }
   ],
   "source": [
    "#Interest rate range\n",
    "print(df2['int_rate'].min())\n",
    "print(df2['int_rate'].max())\n",
    "print(df2['int_rate'].max()-df2['int_rate'].min())"
   ]
  },
  {
   "cell_type": "code",
   "execution_count": 107,
   "metadata": {},
   "outputs": [
    {
     "ename": "SyntaxError",
     "evalue": "invalid syntax (Temp/ipykernel_3560/286957142.py, line 1)",
     "output_type": "error",
     "traceback": [
      "\u001b[1;36m  File \u001b[1;32m\"C:\\Users\\prasa\\AppData\\Local\\Temp/ipykernel_3560/286957142.py\"\u001b[1;36m, line \u001b[1;32m1\u001b[0m\n\u001b[1;33m    <h1> Usuage functions </h1>\u001b[0m\n\u001b[1;37m    ^\u001b[0m\n\u001b[1;31mSyntaxError\u001b[0m\u001b[1;31m:\u001b[0m invalid syntax\n"
     ]
    }
   ],
   "source": [
    "<h1> Usuage functions </h1>"
   ]
  },
  {
   "cell_type": "code",
   "execution_count": 108,
   "metadata": {},
   "outputs": [
    {
     "data": {
      "text/plain": [
       "annual_inc                 4\n",
       "emp_length             44825\n",
       "installment                0\n",
       "int_rate                   0\n",
       "loan_amnt                  0\n",
       "home_ownership             0\n",
       "term                       0\n",
       "dti                        0\n",
       "verification_status        0\n",
       "grade                      0\n",
       "loan_status                0\n",
       "dtype: int64"
      ]
     },
     "execution_count": 108,
     "metadata": {},
     "output_type": "execute_result"
    }
   ],
   "source": [
    "df2.isnull().sum()"
   ]
  },
  {
   "cell_type": "code",
   "execution_count": null,
   "metadata": {},
   "outputs": [],
   "source": []
  },
  {
   "cell_type": "code",
   "execution_count": 110,
   "metadata": {},
   "outputs": [
    {
     "name": "stdout",
     "output_type": "stream",
     "text": [
      "<class 'pandas.core.frame.DataFrame'>\n",
      "RangeIndex: 887379 entries, 0 to 887378\n",
      "Data columns (total 11 columns):\n",
      " #   Column               Non-Null Count   Dtype  \n",
      "---  ------               --------------   -----  \n",
      " 0   annual_inc           887375 non-null  float64\n",
      " 1   emp_length           842554 non-null  object \n",
      " 2   installment          887379 non-null  float64\n",
      " 3   int_rate             887379 non-null  float64\n",
      " 4   loan_amnt            887379 non-null  float64\n",
      " 5   home_ownership       887379 non-null  object \n",
      " 6   term                 887379 non-null  object \n",
      " 7   dti                  887379 non-null  float64\n",
      " 8   verification_status  887379 non-null  object \n",
      " 9   grade                887379 non-null  object \n",
      " 10  loan_status          887379 non-null  object \n",
      "dtypes: float64(5), object(6)\n",
      "memory usage: 74.5+ MB\n"
     ]
    }
   ],
   "source": [
    "df2.info()"
   ]
  },
  {
   "cell_type": "code",
   "execution_count": 111,
   "metadata": {},
   "outputs": [
    {
     "ename": "SyntaxError",
     "evalue": "invalid syntax (Temp/ipykernel_3560/955863177.py, line 1)",
     "output_type": "error",
     "traceback": [
      "\u001b[1;36m  File \u001b[1;32m\"C:\\Users\\prasa\\AppData\\Local\\Temp/ipykernel_3560/955863177.py\"\u001b[1;36m, line \u001b[1;32m1\u001b[0m\n\u001b[1;33m    <h1> Cleaning NULL values </h1>\u001b[0m\n\u001b[1;37m    ^\u001b[0m\n\u001b[1;31mSyntaxError\u001b[0m\u001b[1;31m:\u001b[0m invalid syntax\n"
     ]
    }
   ],
   "source": [
    "<h1> Cleaning NULL values </h1>"
   ]
  },
  {
   "cell_type": "code",
   "execution_count": 113,
   "metadata": {},
   "outputs": [
    {
     "data": {
      "text/plain": [
       "annual_inc                 4\n",
       "emp_length             44825\n",
       "installment                0\n",
       "int_rate                   0\n",
       "loan_amnt                  0\n",
       "home_ownership             0\n",
       "term                       0\n",
       "dti                        0\n",
       "verification_status        0\n",
       "grade                      0\n",
       "loan_status                0\n",
       "dtype: int64"
      ]
     },
     "execution_count": 113,
     "metadata": {},
     "output_type": "execute_result"
    }
   ],
   "source": [
    "df2.isnull().sum()"
   ]
  },
  {
   "cell_type": "code",
   "execution_count": null,
   "metadata": {},
   "outputs": [],
   "source": []
  },
  {
   "cell_type": "code",
   "execution_count": 125,
   "metadata": {},
   "outputs": [
    {
     "name": "stdout",
     "output_type": "stream",
     "text": [
      "<class 'pandas.core.frame.DataFrame'>\n",
      "RangeIndex: 887379 entries, 0 to 887378\n",
      "Data columns (total 11 columns):\n",
      " #   Column               Non-Null Count   Dtype  \n",
      "---  ------               --------------   -----  \n",
      " 0   annual_inc           887375 non-null  float64\n",
      " 1   emp_length           887379 non-null  int64  \n",
      " 2   installment          887379 non-null  float64\n",
      " 3   int_rate             887379 non-null  float64\n",
      " 4   loan_amnt            887379 non-null  float64\n",
      " 5   home_ownership       0 non-null       float64\n",
      " 6   term                 887379 non-null  object \n",
      " 7   dti                  887379 non-null  float64\n",
      " 8   verification_status  887379 non-null  object \n",
      " 9   grade                887379 non-null  object \n",
      " 10  loan_status          887379 non-null  object \n",
      "dtypes: float64(6), int64(1), object(4)\n",
      "memory usage: 74.5+ MB\n"
     ]
    }
   ],
   "source": [
    "df2.info()"
   ]
  },
  {
   "cell_type": "code",
   "execution_count": null,
   "metadata": {},
   "outputs": [],
   "source": [
    "import pandas as pd"
   ]
  },
  {
   "cell_type": "code",
   "execution_count": null,
   "metadata": {},
   "outputs": [],
   "source": []
  }
 ],
 "metadata": {
  "kernelspec": {
   "display_name": "base",
   "language": "python",
   "name": "python3"
  },
  "language_info": {
   "codemirror_mode": {
    "name": "ipython",
    "version": 3
   },
   "file_extension": ".py",
   "mimetype": "text/x-python",
   "name": "python",
   "nbconvert_exporter": "python",
   "pygments_lexer": "ipython3",
   "version": "3.9.7"
  },
  "orig_nbformat": 4
 },
 "nbformat": 4,
 "nbformat_minor": 2
}
